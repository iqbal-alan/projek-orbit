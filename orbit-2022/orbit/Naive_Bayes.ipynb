{
  "cells": [
    {
      "cell_type": "code",
      "execution_count": 64,
      "metadata": {
        "colab": {
          "base_uri": "https://localhost:8080/"
        },
        "id": "aXS5P8KdFZU2",
        "outputId": "db8625cc-c106-4908-f2d5-ad152def938a"
      },
      "outputs": [
        {
          "output_type": "stream",
          "name": "stdout",
          "text": [
            "Looking in indexes: https://pypi.org/simple, https://us-python.pkg.dev/colab-wheels/public/simple/\n",
            "Requirement already satisfied: jcopml in /usr/local/lib/python3.7/dist-packages (1.1.14)\n",
            "Requirement already satisfied: scipy in /usr/local/lib/python3.7/dist-packages (from jcopml) (1.4.1)\n",
            "Requirement already satisfied: matplotlib in /usr/local/lib/python3.7/dist-packages (from jcopml) (3.2.2)\n",
            "Requirement already satisfied: seaborn in /usr/local/lib/python3.7/dist-packages (from jcopml) (0.11.2)\n",
            "Requirement already satisfied: scikit-optimize in /usr/local/lib/python3.7/dist-packages (from jcopml) (0.9.0)\n",
            "Requirement already satisfied: scikit-learn in /usr/local/lib/python3.7/dist-packages (from jcopml) (1.0.2)\n",
            "Requirement already satisfied: statsmodels in /usr/local/lib/python3.7/dist-packages (from jcopml) (0.10.2)\n",
            "Requirement already satisfied: ipywidgets in /usr/local/lib/python3.7/dist-packages (from jcopml) (7.7.0)\n",
            "Requirement already satisfied: numpy in /usr/local/lib/python3.7/dist-packages (from jcopml) (1.21.6)\n",
            "Requirement already satisfied: pandas in /usr/local/lib/python3.7/dist-packages (from jcopml) (1.3.5)\n",
            "Requirement already satisfied: ipykernel>=4.5.1 in /usr/local/lib/python3.7/dist-packages (from ipywidgets->jcopml) (4.10.1)\n",
            "Requirement already satisfied: jupyterlab-widgets>=1.0.0 in /usr/local/lib/python3.7/dist-packages (from ipywidgets->jcopml) (1.1.0)\n",
            "Requirement already satisfied: traitlets>=4.3.1 in /usr/local/lib/python3.7/dist-packages (from ipywidgets->jcopml) (5.1.1)\n",
            "Requirement already satisfied: ipython-genutils~=0.2.0 in /usr/local/lib/python3.7/dist-packages (from ipywidgets->jcopml) (0.2.0)\n",
            "Requirement already satisfied: widgetsnbextension~=3.6.0 in /usr/local/lib/python3.7/dist-packages (from ipywidgets->jcopml) (3.6.0)\n",
            "Requirement already satisfied: ipython>=4.0.0 in /usr/local/lib/python3.7/dist-packages (from ipywidgets->jcopml) (5.5.0)\n",
            "Requirement already satisfied: nbformat>=4.2.0 in /usr/local/lib/python3.7/dist-packages (from ipywidgets->jcopml) (5.4.0)\n",
            "Requirement already satisfied: tornado>=4.0 in /usr/local/lib/python3.7/dist-packages (from ipykernel>=4.5.1->ipywidgets->jcopml) (5.1.1)\n",
            "Requirement already satisfied: jupyter-client in /usr/local/lib/python3.7/dist-packages (from ipykernel>=4.5.1->ipywidgets->jcopml) (5.3.5)\n",
            "Requirement already satisfied: simplegeneric>0.8 in /usr/local/lib/python3.7/dist-packages (from ipython>=4.0.0->ipywidgets->jcopml) (0.8.1)\n",
            "Requirement already satisfied: decorator in /usr/local/lib/python3.7/dist-packages (from ipython>=4.0.0->ipywidgets->jcopml) (4.4.2)\n",
            "Requirement already satisfied: setuptools>=18.5 in /usr/local/lib/python3.7/dist-packages (from ipython>=4.0.0->ipywidgets->jcopml) (57.4.0)\n",
            "Requirement already satisfied: prompt-toolkit<2.0.0,>=1.0.4 in /usr/local/lib/python3.7/dist-packages (from ipython>=4.0.0->ipywidgets->jcopml) (1.0.18)\n",
            "Requirement already satisfied: pygments in /usr/local/lib/python3.7/dist-packages (from ipython>=4.0.0->ipywidgets->jcopml) (2.6.1)\n",
            "Requirement already satisfied: pexpect in /usr/local/lib/python3.7/dist-packages (from ipython>=4.0.0->ipywidgets->jcopml) (4.8.0)\n",
            "Requirement already satisfied: pickleshare in /usr/local/lib/python3.7/dist-packages (from ipython>=4.0.0->ipywidgets->jcopml) (0.7.5)\n",
            "Requirement already satisfied: jupyter-core in /usr/local/lib/python3.7/dist-packages (from nbformat>=4.2.0->ipywidgets->jcopml) (4.10.0)\n",
            "Requirement already satisfied: jsonschema>=2.6 in /usr/local/lib/python3.7/dist-packages (from nbformat>=4.2.0->ipywidgets->jcopml) (4.3.3)\n",
            "Requirement already satisfied: fastjsonschema in /usr/local/lib/python3.7/dist-packages (from nbformat>=4.2.0->ipywidgets->jcopml) (2.15.3)\n",
            "Requirement already satisfied: importlib-metadata in /usr/local/lib/python3.7/dist-packages (from jsonschema>=2.6->nbformat>=4.2.0->ipywidgets->jcopml) (4.11.4)\n",
            "Requirement already satisfied: typing-extensions in /usr/local/lib/python3.7/dist-packages (from jsonschema>=2.6->nbformat>=4.2.0->ipywidgets->jcopml) (4.2.0)\n",
            "Requirement already satisfied: attrs>=17.4.0 in /usr/local/lib/python3.7/dist-packages (from jsonschema>=2.6->nbformat>=4.2.0->ipywidgets->jcopml) (21.4.0)\n",
            "Requirement already satisfied: importlib-resources>=1.4.0 in /usr/local/lib/python3.7/dist-packages (from jsonschema>=2.6->nbformat>=4.2.0->ipywidgets->jcopml) (5.7.1)\n",
            "Requirement already satisfied: pyrsistent!=0.17.0,!=0.17.1,!=0.17.2,>=0.14.0 in /usr/local/lib/python3.7/dist-packages (from jsonschema>=2.6->nbformat>=4.2.0->ipywidgets->jcopml) (0.18.1)\n",
            "Requirement already satisfied: zipp>=3.1.0 in /usr/local/lib/python3.7/dist-packages (from importlib-resources>=1.4.0->jsonschema>=2.6->nbformat>=4.2.0->ipywidgets->jcopml) (3.8.0)\n",
            "Requirement already satisfied: six>=1.9.0 in /usr/local/lib/python3.7/dist-packages (from prompt-toolkit<2.0.0,>=1.0.4->ipython>=4.0.0->ipywidgets->jcopml) (1.15.0)\n",
            "Requirement already satisfied: wcwidth in /usr/local/lib/python3.7/dist-packages (from prompt-toolkit<2.0.0,>=1.0.4->ipython>=4.0.0->ipywidgets->jcopml) (0.2.5)\n",
            "Requirement already satisfied: notebook>=4.4.1 in /usr/local/lib/python3.7/dist-packages (from widgetsnbextension~=3.6.0->ipywidgets->jcopml) (5.3.1)\n",
            "Requirement already satisfied: jinja2 in /usr/local/lib/python3.7/dist-packages (from notebook>=4.4.1->widgetsnbextension~=3.6.0->ipywidgets->jcopml) (2.11.3)\n",
            "Requirement already satisfied: Send2Trash in /usr/local/lib/python3.7/dist-packages (from notebook>=4.4.1->widgetsnbextension~=3.6.0->ipywidgets->jcopml) (1.8.0)\n",
            "Requirement already satisfied: terminado>=0.8.1 in /usr/local/lib/python3.7/dist-packages (from notebook>=4.4.1->widgetsnbextension~=3.6.0->ipywidgets->jcopml) (0.13.3)\n",
            "Requirement already satisfied: nbconvert in /usr/local/lib/python3.7/dist-packages (from notebook>=4.4.1->widgetsnbextension~=3.6.0->ipywidgets->jcopml) (5.6.1)\n",
            "Requirement already satisfied: python-dateutil>=2.1 in /usr/local/lib/python3.7/dist-packages (from jupyter-client->ipykernel>=4.5.1->ipywidgets->jcopml) (2.8.2)\n",
            "Requirement already satisfied: pyzmq>=13 in /usr/local/lib/python3.7/dist-packages (from jupyter-client->ipykernel>=4.5.1->ipywidgets->jcopml) (23.1.0)\n",
            "Requirement already satisfied: ptyprocess in /usr/local/lib/python3.7/dist-packages (from terminado>=0.8.1->notebook>=4.4.1->widgetsnbextension~=3.6.0->ipywidgets->jcopml) (0.7.0)\n",
            "Requirement already satisfied: MarkupSafe>=0.23 in /usr/local/lib/python3.7/dist-packages (from jinja2->notebook>=4.4.1->widgetsnbextension~=3.6.0->ipywidgets->jcopml) (2.0.1)\n",
            "Requirement already satisfied: kiwisolver>=1.0.1 in /usr/local/lib/python3.7/dist-packages (from matplotlib->jcopml) (1.4.2)\n",
            "Requirement already satisfied: cycler>=0.10 in /usr/local/lib/python3.7/dist-packages (from matplotlib->jcopml) (0.11.0)\n",
            "Requirement already satisfied: pyparsing!=2.0.4,!=2.1.2,!=2.1.6,>=2.0.1 in /usr/local/lib/python3.7/dist-packages (from matplotlib->jcopml) (3.0.9)\n",
            "Requirement already satisfied: defusedxml in /usr/local/lib/python3.7/dist-packages (from nbconvert->notebook>=4.4.1->widgetsnbextension~=3.6.0->ipywidgets->jcopml) (0.7.1)\n",
            "Requirement already satisfied: pandocfilters>=1.4.1 in /usr/local/lib/python3.7/dist-packages (from nbconvert->notebook>=4.4.1->widgetsnbextension~=3.6.0->ipywidgets->jcopml) (1.5.0)\n",
            "Requirement already satisfied: bleach in /usr/local/lib/python3.7/dist-packages (from nbconvert->notebook>=4.4.1->widgetsnbextension~=3.6.0->ipywidgets->jcopml) (5.0.0)\n",
            "Requirement already satisfied: testpath in /usr/local/lib/python3.7/dist-packages (from nbconvert->notebook>=4.4.1->widgetsnbextension~=3.6.0->ipywidgets->jcopml) (0.6.0)\n",
            "Requirement already satisfied: mistune<2,>=0.8.1 in /usr/local/lib/python3.7/dist-packages (from nbconvert->notebook>=4.4.1->widgetsnbextension~=3.6.0->ipywidgets->jcopml) (0.8.4)\n",
            "Requirement already satisfied: entrypoints>=0.2.2 in /usr/local/lib/python3.7/dist-packages (from nbconvert->notebook>=4.4.1->widgetsnbextension~=3.6.0->ipywidgets->jcopml) (0.4)\n",
            "Requirement already satisfied: webencodings in /usr/local/lib/python3.7/dist-packages (from bleach->nbconvert->notebook>=4.4.1->widgetsnbextension~=3.6.0->ipywidgets->jcopml) (0.5.1)\n",
            "Requirement already satisfied: pytz>=2017.3 in /usr/local/lib/python3.7/dist-packages (from pandas->jcopml) (2022.1)\n",
            "Requirement already satisfied: joblib>=0.11 in /usr/local/lib/python3.7/dist-packages (from scikit-learn->jcopml) (1.1.0)\n",
            "Requirement already satisfied: threadpoolctl>=2.0.0 in /usr/local/lib/python3.7/dist-packages (from scikit-learn->jcopml) (3.1.0)\n",
            "Requirement already satisfied: pyaml>=16.9 in /usr/local/lib/python3.7/dist-packages (from scikit-optimize->jcopml) (21.10.1)\n",
            "Requirement already satisfied: PyYAML in /usr/local/lib/python3.7/dist-packages (from pyaml>=16.9->scikit-optimize->jcopml) (3.13)\n",
            "Requirement already satisfied: patsy>=0.4.0 in /usr/local/lib/python3.7/dist-packages (from statsmodels->jcopml) (0.5.2)\n"
          ]
        }
      ],
      "source": [
        "pip install jcopml"
      ]
    },
    {
      "cell_type": "code",
      "execution_count": 65,
      "metadata": {
        "id": "IIOB4JxvFqXF"
      },
      "outputs": [],
      "source": [
        "import pandas as pd\n",
        "\n",
        "from sklearn.model_selection import train_test_split\n",
        "from sklearn.pipeline import Pipeline\n",
        "from sklearn.compose import ColumnTransformer\n",
        "\n",
        "from jcopml.pipeline import num_pipe, cat_pipe"
      ]
    },
    {
      "cell_type": "code",
      "execution_count": 74,
      "metadata": {
        "colab": {
          "base_uri": "https://localhost:8080/",
          "height": 424
        },
        "id": "0YiieCAxFZU5",
        "outputId": "36e668a4-3075-4767-8338-ca606e49f22f"
      },
      "outputs": [
        {
          "output_type": "execute_result",
          "data": {
            "text/plain": [
              "        Nama  Tanggungan           Pekerjaan            Penghasilan  \\\n",
              "0       Heri           1     Karyawan Swasta  2.100.000 - 3.000.000   \n",
              "1      Manto           2    Karyawan Honorer  1.100.000 - 2.000.000   \n",
              "2     Hendra           3  Buruh Harian Lepas          0 - 1.000.000   \n",
              "3      Fajar           2          Buruh Tani          0 - 1.000.000   \n",
              "4      Maman           2     Karyawan Swasta  2.100.000 - 3.000.000   \n",
              "..       ...         ...                 ...                    ...   \n",
              "105      Ali           1          Buruh Tani          0 - 1.000.000   \n",
              "106  Handoyo           3          Buruh Tani          0 - 1.000.000   \n",
              "107   Mahadi           4  Buruh Harian Lepas          0 - 1.000.000   \n",
              "108  Sukarya           3          Wiraswasta  2.100.000 - 3.000.000   \n",
              "109    Arman           2  Transportasi/Sopir          0 - 1.000.000   \n",
              "\n",
              "    Jenis Lantai Jenis Dinding Sumber Listrik Sumber Air         SK MCK  \\\n",
              "0        Keramik          Bata            PLN       PDAM  Milik Sendiri   \n",
              "1        Keramik          Bata            PLN       PDAM  Milik Sendiri   \n",
              "2    Non-Keramik         Bambu            PLN      Sumur           Umum   \n",
              "3        Keramik          Bata            PLN      Sumur  Milik Sendiri   \n",
              "4        Keramik          Bata            PLN       PDAM  Milik Sendiri   \n",
              "..           ...           ...            ...        ...            ...   \n",
              "105      Keramik          Bata            PLN      Sumur  Milik Sendiri   \n",
              "106  Non-Keramik         Bambu            PLN      Sumur           Umum   \n",
              "107  Non-Keramik         Bambu            PLN      Sumur  Milik Sendiri   \n",
              "108      Keramik          Bata            PLN       PDAM  Milik Sendiri   \n",
              "109      Keramik          Bata            PLN      Sumur  Milik Sendiri   \n",
              "\n",
              "          SK Rumah       Status  \n",
              "0    Milik Sendiri  Tidak Layak  \n",
              "1    Milik Sendiri        Layak  \n",
              "2    Milik Sendiri        Layak  \n",
              "3    Milik Sendiri        Layak  \n",
              "4    Milik Sendiri  Tidak Layak  \n",
              "..             ...          ...  \n",
              "105  Milik Sendiri        Layak  \n",
              "106  Milik Sendiri        Layak  \n",
              "107  Milik Sendiri        Layak  \n",
              "108  Milik Sendiri  Tidak Layak  \n",
              "109  Milik Sendiri        Layak  \n",
              "\n",
              "[110 rows x 11 columns]"
            ],
            "text/html": [
              "\n",
              "  <div id=\"df-15dd17a2-ffbc-41af-97c7-0cbb6afd7c8e\">\n",
              "    <div class=\"colab-df-container\">\n",
              "      <div>\n",
              "<style scoped>\n",
              "    .dataframe tbody tr th:only-of-type {\n",
              "        vertical-align: middle;\n",
              "    }\n",
              "\n",
              "    .dataframe tbody tr th {\n",
              "        vertical-align: top;\n",
              "    }\n",
              "\n",
              "    .dataframe thead th {\n",
              "        text-align: right;\n",
              "    }\n",
              "</style>\n",
              "<table border=\"1\" class=\"dataframe\">\n",
              "  <thead>\n",
              "    <tr style=\"text-align: right;\">\n",
              "      <th></th>\n",
              "      <th>Nama</th>\n",
              "      <th>Tanggungan</th>\n",
              "      <th>Pekerjaan</th>\n",
              "      <th>Penghasilan</th>\n",
              "      <th>Jenis Lantai</th>\n",
              "      <th>Jenis Dinding</th>\n",
              "      <th>Sumber Listrik</th>\n",
              "      <th>Sumber Air</th>\n",
              "      <th>SK MCK</th>\n",
              "      <th>SK Rumah</th>\n",
              "      <th>Status</th>\n",
              "    </tr>\n",
              "  </thead>\n",
              "  <tbody>\n",
              "    <tr>\n",
              "      <th>0</th>\n",
              "      <td>Heri</td>\n",
              "      <td>1</td>\n",
              "      <td>Karyawan Swasta</td>\n",
              "      <td>2.100.000 - 3.000.000</td>\n",
              "      <td>Keramik</td>\n",
              "      <td>Bata</td>\n",
              "      <td>PLN</td>\n",
              "      <td>PDAM</td>\n",
              "      <td>Milik Sendiri</td>\n",
              "      <td>Milik Sendiri</td>\n",
              "      <td>Tidak Layak</td>\n",
              "    </tr>\n",
              "    <tr>\n",
              "      <th>1</th>\n",
              "      <td>Manto</td>\n",
              "      <td>2</td>\n",
              "      <td>Karyawan Honorer</td>\n",
              "      <td>1.100.000 - 2.000.000</td>\n",
              "      <td>Keramik</td>\n",
              "      <td>Bata</td>\n",
              "      <td>PLN</td>\n",
              "      <td>PDAM</td>\n",
              "      <td>Milik Sendiri</td>\n",
              "      <td>Milik Sendiri</td>\n",
              "      <td>Layak</td>\n",
              "    </tr>\n",
              "    <tr>\n",
              "      <th>2</th>\n",
              "      <td>Hendra</td>\n",
              "      <td>3</td>\n",
              "      <td>Buruh Harian Lepas</td>\n",
              "      <td>0 - 1.000.000</td>\n",
              "      <td>Non-Keramik</td>\n",
              "      <td>Bambu</td>\n",
              "      <td>PLN</td>\n",
              "      <td>Sumur</td>\n",
              "      <td>Umum</td>\n",
              "      <td>Milik Sendiri</td>\n",
              "      <td>Layak</td>\n",
              "    </tr>\n",
              "    <tr>\n",
              "      <th>3</th>\n",
              "      <td>Fajar</td>\n",
              "      <td>2</td>\n",
              "      <td>Buruh Tani</td>\n",
              "      <td>0 - 1.000.000</td>\n",
              "      <td>Keramik</td>\n",
              "      <td>Bata</td>\n",
              "      <td>PLN</td>\n",
              "      <td>Sumur</td>\n",
              "      <td>Milik Sendiri</td>\n",
              "      <td>Milik Sendiri</td>\n",
              "      <td>Layak</td>\n",
              "    </tr>\n",
              "    <tr>\n",
              "      <th>4</th>\n",
              "      <td>Maman</td>\n",
              "      <td>2</td>\n",
              "      <td>Karyawan Swasta</td>\n",
              "      <td>2.100.000 - 3.000.000</td>\n",
              "      <td>Keramik</td>\n",
              "      <td>Bata</td>\n",
              "      <td>PLN</td>\n",
              "      <td>PDAM</td>\n",
              "      <td>Milik Sendiri</td>\n",
              "      <td>Milik Sendiri</td>\n",
              "      <td>Tidak Layak</td>\n",
              "    </tr>\n",
              "    <tr>\n",
              "      <th>...</th>\n",
              "      <td>...</td>\n",
              "      <td>...</td>\n",
              "      <td>...</td>\n",
              "      <td>...</td>\n",
              "      <td>...</td>\n",
              "      <td>...</td>\n",
              "      <td>...</td>\n",
              "      <td>...</td>\n",
              "      <td>...</td>\n",
              "      <td>...</td>\n",
              "      <td>...</td>\n",
              "    </tr>\n",
              "    <tr>\n",
              "      <th>105</th>\n",
              "      <td>Ali</td>\n",
              "      <td>1</td>\n",
              "      <td>Buruh Tani</td>\n",
              "      <td>0 - 1.000.000</td>\n",
              "      <td>Keramik</td>\n",
              "      <td>Bata</td>\n",
              "      <td>PLN</td>\n",
              "      <td>Sumur</td>\n",
              "      <td>Milik Sendiri</td>\n",
              "      <td>Milik Sendiri</td>\n",
              "      <td>Layak</td>\n",
              "    </tr>\n",
              "    <tr>\n",
              "      <th>106</th>\n",
              "      <td>Handoyo</td>\n",
              "      <td>3</td>\n",
              "      <td>Buruh Tani</td>\n",
              "      <td>0 - 1.000.000</td>\n",
              "      <td>Non-Keramik</td>\n",
              "      <td>Bambu</td>\n",
              "      <td>PLN</td>\n",
              "      <td>Sumur</td>\n",
              "      <td>Umum</td>\n",
              "      <td>Milik Sendiri</td>\n",
              "      <td>Layak</td>\n",
              "    </tr>\n",
              "    <tr>\n",
              "      <th>107</th>\n",
              "      <td>Mahadi</td>\n",
              "      <td>4</td>\n",
              "      <td>Buruh Harian Lepas</td>\n",
              "      <td>0 - 1.000.000</td>\n",
              "      <td>Non-Keramik</td>\n",
              "      <td>Bambu</td>\n",
              "      <td>PLN</td>\n",
              "      <td>Sumur</td>\n",
              "      <td>Milik Sendiri</td>\n",
              "      <td>Milik Sendiri</td>\n",
              "      <td>Layak</td>\n",
              "    </tr>\n",
              "    <tr>\n",
              "      <th>108</th>\n",
              "      <td>Sukarya</td>\n",
              "      <td>3</td>\n",
              "      <td>Wiraswasta</td>\n",
              "      <td>2.100.000 - 3.000.000</td>\n",
              "      <td>Keramik</td>\n",
              "      <td>Bata</td>\n",
              "      <td>PLN</td>\n",
              "      <td>PDAM</td>\n",
              "      <td>Milik Sendiri</td>\n",
              "      <td>Milik Sendiri</td>\n",
              "      <td>Tidak Layak</td>\n",
              "    </tr>\n",
              "    <tr>\n",
              "      <th>109</th>\n",
              "      <td>Arman</td>\n",
              "      <td>2</td>\n",
              "      <td>Transportasi/Sopir</td>\n",
              "      <td>0 - 1.000.000</td>\n",
              "      <td>Keramik</td>\n",
              "      <td>Bata</td>\n",
              "      <td>PLN</td>\n",
              "      <td>Sumur</td>\n",
              "      <td>Milik Sendiri</td>\n",
              "      <td>Milik Sendiri</td>\n",
              "      <td>Layak</td>\n",
              "    </tr>\n",
              "  </tbody>\n",
              "</table>\n",
              "<p>110 rows × 11 columns</p>\n",
              "</div>\n",
              "      <button class=\"colab-df-convert\" onclick=\"convertToInteractive('df-15dd17a2-ffbc-41af-97c7-0cbb6afd7c8e')\"\n",
              "              title=\"Convert this dataframe to an interactive table.\"\n",
              "              style=\"display:none;\">\n",
              "        \n",
              "  <svg xmlns=\"http://www.w3.org/2000/svg\" height=\"24px\"viewBox=\"0 0 24 24\"\n",
              "       width=\"24px\">\n",
              "    <path d=\"M0 0h24v24H0V0z\" fill=\"none\"/>\n",
              "    <path d=\"M18.56 5.44l.94 2.06.94-2.06 2.06-.94-2.06-.94-.94-2.06-.94 2.06-2.06.94zm-11 1L8.5 8.5l.94-2.06 2.06-.94-2.06-.94L8.5 2.5l-.94 2.06-2.06.94zm10 10l.94 2.06.94-2.06 2.06-.94-2.06-.94-.94-2.06-.94 2.06-2.06.94z\"/><path d=\"M17.41 7.96l-1.37-1.37c-.4-.4-.92-.59-1.43-.59-.52 0-1.04.2-1.43.59L10.3 9.45l-7.72 7.72c-.78.78-.78 2.05 0 2.83L4 21.41c.39.39.9.59 1.41.59.51 0 1.02-.2 1.41-.59l7.78-7.78 2.81-2.81c.8-.78.8-2.07 0-2.86zM5.41 20L4 18.59l7.72-7.72 1.47 1.35L5.41 20z\"/>\n",
              "  </svg>\n",
              "      </button>\n",
              "      \n",
              "  <style>\n",
              "    .colab-df-container {\n",
              "      display:flex;\n",
              "      flex-wrap:wrap;\n",
              "      gap: 12px;\n",
              "    }\n",
              "\n",
              "    .colab-df-convert {\n",
              "      background-color: #E8F0FE;\n",
              "      border: none;\n",
              "      border-radius: 50%;\n",
              "      cursor: pointer;\n",
              "      display: none;\n",
              "      fill: #1967D2;\n",
              "      height: 32px;\n",
              "      padding: 0 0 0 0;\n",
              "      width: 32px;\n",
              "    }\n",
              "\n",
              "    .colab-df-convert:hover {\n",
              "      background-color: #E2EBFA;\n",
              "      box-shadow: 0px 1px 2px rgba(60, 64, 67, 0.3), 0px 1px 3px 1px rgba(60, 64, 67, 0.15);\n",
              "      fill: #174EA6;\n",
              "    }\n",
              "\n",
              "    [theme=dark] .colab-df-convert {\n",
              "      background-color: #3B4455;\n",
              "      fill: #D2E3FC;\n",
              "    }\n",
              "\n",
              "    [theme=dark] .colab-df-convert:hover {\n",
              "      background-color: #434B5C;\n",
              "      box-shadow: 0px 1px 3px 1px rgba(0, 0, 0, 0.15);\n",
              "      filter: drop-shadow(0px 1px 2px rgba(0, 0, 0, 0.3));\n",
              "      fill: #FFFFFF;\n",
              "    }\n",
              "  </style>\n",
              "\n",
              "      <script>\n",
              "        const buttonEl =\n",
              "          document.querySelector('#df-15dd17a2-ffbc-41af-97c7-0cbb6afd7c8e button.colab-df-convert');\n",
              "        buttonEl.style.display =\n",
              "          google.colab.kernel.accessAllowed ? 'block' : 'none';\n",
              "\n",
              "        async function convertToInteractive(key) {\n",
              "          const element = document.querySelector('#df-15dd17a2-ffbc-41af-97c7-0cbb6afd7c8e');\n",
              "          const dataTable =\n",
              "            await google.colab.kernel.invokeFunction('convertToInteractive',\n",
              "                                                     [key], {});\n",
              "          if (!dataTable) return;\n",
              "\n",
              "          const docLinkHtml = 'Like what you see? Visit the ' +\n",
              "            '<a target=\"_blank\" href=https://colab.research.google.com/notebooks/data_table.ipynb>data table notebook</a>'\n",
              "            + ' to learn more about interactive tables.';\n",
              "          element.innerHTML = '';\n",
              "          dataTable['output_type'] = 'display_data';\n",
              "          await google.colab.output.renderOutput(dataTable, element);\n",
              "          const docLink = document.createElement('div');\n",
              "          docLink.innerHTML = docLinkHtml;\n",
              "          element.appendChild(docLink);\n",
              "        }\n",
              "      </script>\n",
              "    </div>\n",
              "  </div>\n",
              "  "
            ]
          },
          "metadata": {},
          "execution_count": 74
        }
      ],
      "source": [
        "df = pd.read_excel (r'data_pa.xlsx')\n",
        "df.to_csv (r'data_pa.csv', index = None, header=True)\n",
        "df"
      ]
    },
    {
      "cell_type": "code",
      "execution_count": 75,
      "metadata": {
        "colab": {
          "base_uri": "https://localhost:8080/"
        },
        "id": "bqJZlSPwIiF5",
        "outputId": "27f53cc1-e6f6-4972-edb0-554492bc06ce"
      },
      "outputs": [
        {
          "output_type": "stream",
          "name": "stdout",
          "text": [
            "<class 'pandas.core.frame.DataFrame'>\n",
            "RangeIndex: 110 entries, 0 to 109\n",
            "Data columns (total 11 columns):\n",
            " #   Column          Non-Null Count  Dtype \n",
            "---  ------          --------------  ----- \n",
            " 0   Nama            110 non-null    object\n",
            " 1   Tanggungan      110 non-null    int64 \n",
            " 2   Pekerjaan       110 non-null    object\n",
            " 3   Penghasilan     110 non-null    object\n",
            " 4   Jenis Lantai    110 non-null    object\n",
            " 5   Jenis Dinding   110 non-null    object\n",
            " 6   Sumber Listrik  110 non-null    object\n",
            " 7   Sumber Air      110 non-null    object\n",
            " 8   SK MCK          110 non-null    object\n",
            " 9   SK Rumah        110 non-null    object\n",
            " 10  Status          110 non-null    object\n",
            "dtypes: int64(1), object(10)\n",
            "memory usage: 9.6+ KB\n"
          ]
        }
      ],
      "source": [
        "df.info()"
      ]
    },
    {
      "cell_type": "markdown",
      "source": [
        "Tahap selanjutnya kita mengambil kolom \"Status\" untuk dijadikan label"
      ],
      "metadata": {
        "id": "X1Bxie3hCTRk"
      }
    },
    {
      "cell_type": "code",
      "execution_count": 76,
      "metadata": {
        "id": "2JY18Z3VFZU7"
      },
      "outputs": [],
      "source": [
        "ds = df.drop(columns=\"Nama\")\n",
        "X = ds.drop(columns=\"Status\")\n",
        "y = df.Status"
      ]
    },
    {
      "cell_type": "markdown",
      "source": [
        "Setelah itu, dilakukanlah pembagian data menjadi dua yaitu 80% data training dan 20% data testing."
      ],
      "metadata": {
        "id": "gzIPRCxpEEy9"
      }
    },
    {
      "cell_type": "code",
      "execution_count": 77,
      "metadata": {
        "colab": {
          "base_uri": "https://localhost:8080/"
        },
        "id": "MgZn2FbSFZU7",
        "outputId": "e0ec5f79-3a71-40e6-c9e4-2be1675659f1"
      },
      "outputs": [
        {
          "output_type": "execute_result",
          "data": {
            "text/plain": [
              "((88, 9), (22, 9), (88,), (22,))"
            ]
          },
          "metadata": {},
          "execution_count": 77
        }
      ],
      "source": [
        "X_train, X_test, y_train, y_test = train_test_split(X, y, test_size=0.2, random_state=42)\n",
        "X_train.shape, X_test.shape, y_train.shape, y_test.shape"
      ]
    },
    {
      "cell_type": "code",
      "execution_count": 78,
      "metadata": {
        "id": "FE5vpR2eFZU8"
      },
      "outputs": [],
      "source": [
        "preprocessor = ColumnTransformer([\n",
        "    ('numeric', num_pipe(), [\"Tanggungan\"]),\n",
        "    ('categoric', cat_pipe(encoder='onehot'), ['Pekerjaan', 'Penghasilan', 'Jenis Lantai', 'Jenis Dinding', 'Sumber Listrik', 'Sumber Air', 'SK MCK', 'SK Rumah']),\n",
        "])"
      ]
    },
    {
      "cell_type": "markdown",
      "source": [
        "Setelah pembagian data, selanjutnya yaitu tahap pembuatan model Naive Bayes dengan menggunakan Gaussian Naive Bayes"
      ],
      "metadata": {
        "id": "aiqZtwg8ElKq"
      }
    },
    {
      "cell_type": "code",
      "execution_count": 79,
      "metadata": {
        "id": "_lELdLXvFZU9"
      },
      "outputs": [],
      "source": [
        "from sklearn.naive_bayes import GaussianNB\n",
        "pipeline = Pipeline([\n",
        "    ('prep', preprocessor),\n",
        "    ('algo', GaussianNB())\n",
        "])"
      ]
    },
    {
      "cell_type": "code",
      "execution_count": 80,
      "metadata": {
        "colab": {
          "base_uri": "https://localhost:8080/"
        },
        "id": "d5lKf-JHFZU-",
        "outputId": "388c553c-7131-4ddb-f96f-7a6050e00a09"
      },
      "outputs": [
        {
          "output_type": "execute_result",
          "data": {
            "text/plain": [
              "Pipeline(steps=[('prep',\n",
              "                 ColumnTransformer(transformers=[('numeric',\n",
              "                                                  Pipeline(steps=[('imputer',\n",
              "                                                                   SimpleImputer(strategy='median'))]),\n",
              "                                                  ['Tanggungan']),\n",
              "                                                 ('categoric',\n",
              "                                                  Pipeline(steps=[('imputer',\n",
              "                                                                   SimpleImputer(strategy='most_frequent')),\n",
              "                                                                  ('onehot',\n",
              "                                                                   OneHotEncoder(handle_unknown='ignore'))]),\n",
              "                                                  ['Pekerjaan', 'Penghasilan',\n",
              "                                                   'Jenis Lantai',\n",
              "                                                   'Jenis Dinding',\n",
              "                                                   'Sumber Listrik',\n",
              "                                                   'Sumber Air', 'SK MCK',\n",
              "                                                   'SK Rumah'])])),\n",
              "                ('algo', GaussianNB())])"
            ]
          },
          "metadata": {},
          "execution_count": 80
        }
      ],
      "source": [
        "pipeline.fit(X_train, y_train)"
      ]
    },
    {
      "cell_type": "code",
      "execution_count": 81,
      "metadata": {
        "id": "ZQaNd1OmFZU_",
        "outputId": "50b58273-04ab-42b5-caf8-d246a3997e4e",
        "colab": {
          "base_uri": "https://localhost:8080/"
        }
      },
      "outputs": [
        {
          "output_type": "execute_result",
          "data": {
            "text/plain": [
              "0.9886363636363636"
            ]
          },
          "metadata": {},
          "execution_count": 81
        }
      ],
      "source": [
        "pipeline.score(X_train, y_train)"
      ]
    },
    {
      "cell_type": "code",
      "execution_count": 82,
      "metadata": {
        "id": "V8ReZz2SFZU_",
        "outputId": "15dd5c96-88b9-499c-e884-7ca8af681470",
        "colab": {
          "base_uri": "https://localhost:8080/"
        }
      },
      "outputs": [
        {
          "output_type": "execute_result",
          "data": {
            "text/plain": [
              "0.9090909090909091"
            ]
          },
          "metadata": {},
          "execution_count": 82
        }
      ],
      "source": [
        "pipeline.score(X_test, y_test)"
      ]
    },
    {
      "cell_type": "code",
      "execution_count": 83,
      "metadata": {
        "id": "F4MGLo32FZVA",
        "outputId": "6ad55e47-3eb6-4225-bc48-7be0decfcee3",
        "colab": {
          "base_uri": "https://localhost:8080/",
          "height": 355
        }
      },
      "outputs": [
        {
          "output_type": "display_data",
          "data": {
            "text/plain": [
              "<Figure size 792x360 with 2 Axes>"
            ],
            "image/png": "[encoded data removed]"
          },
          "metadata": {
            "needs_background": "light"
          }
        }
      ],
      "source": [
        "from jcopml.plot import plot_confusion_matrix\n",
        "plot_confusion_matrix(X_train, y_train, X_test, y_test, pipeline)"
      ]
    },
    {
      "cell_type": "markdown",
      "source": [
        "Hasil evaluasi model dengan menggunakan Confussion Matrix menunjukan bahwa algoritma Naive Bayes yang digunakan memiliki tingkat akurasi 98% untuk "
      ],
      "metadata": {
        "id": "720R-PdSDHA7"
      }
    },
    {
      "cell_type": "markdown",
      "metadata": {
        "id": "KqZc8m8yFZVC"
      },
      "source": [
        "# Prediction"
      ]
    },
    {
      "cell_type": "markdown",
      "source": [
        "Setelah pembuatan model Naive Bayes, kita coba prediksi calon penerima bantuan dengan data testing."
      ],
      "metadata": {
        "id": "ZK-uhS9uCoY-"
      }
    },
    {
      "cell_type": "code",
      "execution_count": 84,
      "metadata": {
        "id": "Mto_ChGlFZVE",
        "outputId": "bdc7fc33-df09-4c60-c743-3ca2a45cd080",
        "colab": {
          "base_uri": "https://localhost:8080/",
          "height": 144
        }
      },
      "outputs": [
        {
          "output_type": "execute_result",
          "data": {
            "text/plain": [
              "     Nama  Tanggungan           Pekerjaan            Penghasilan Jenis Lantai  \\\n",
              "0    Jojo           4          Buruh Tani          0 - 1.000.000  Non-Keramik   \n",
              "1  Lukman           2          Wiraswasta  5.100.000 - 6.000.000      Keramik   \n",
              "2  Rustam           2  Buruh Harian Lepas          0 - 1.000.000  Non-Keramik   \n",
              "\n",
              "  Jenis Dinding Sumber Listrik Sumber Air         SK MCK       SK Rumah  \\\n",
              "0         Bambu            PLN      Sumur  Milik Sendiri  Milik Sendiri   \n",
              "1          Bata            PLN       PDAM  Milik Sendiri  Milik Sendiri   \n",
              "2         Bambu            PLN      Sumur  Milik Sendiri  Milik Sendiri   \n",
              "\n",
              "   Status  \n",
              "0     NaN  \n",
              "1     NaN  \n",
              "2     NaN  "
            ],
            "text/html": [
              "\n",
              "  <div id=\"df-077e6d15-8a76-4a35-a1ce-4ac5307da107\">\n",
              "    <div class=\"colab-df-container\">\n",
              "      <div>\n",
              "<style scoped>\n",
              "    .dataframe tbody tr th:only-of-type {\n",
              "        vertical-align: middle;\n",
              "    }\n",
              "\n",
              "    .dataframe tbody tr th {\n",
              "        vertical-align: top;\n",
              "    }\n",
              "\n",
              "    .dataframe thead th {\n",
              "        text-align: right;\n",
              "    }\n",
              "</style>\n",
              "<table border=\"1\" class=\"dataframe\">\n",
              "  <thead>\n",
              "    <tr style=\"text-align: right;\">\n",
              "      <th></th>\n",
              "      <th>Nama</th>\n",
              "      <th>Tanggungan</th>\n",
              "      <th>Pekerjaan</th>\n",
              "      <th>Penghasilan</th>\n",
              "      <th>Jenis Lantai</th>\n",
              "      <th>Jenis Dinding</th>\n",
              "      <th>Sumber Listrik</th>\n",
              "      <th>Sumber Air</th>\n",
              "      <th>SK MCK</th>\n",
              "      <th>SK Rumah</th>\n",
              "      <th>Status</th>\n",
              "    </tr>\n",
              "  </thead>\n",
              "  <tbody>\n",
              "    <tr>\n",
              "      <th>0</th>\n",
              "      <td>Jojo</td>\n",
              "      <td>4</td>\n",
              "      <td>Buruh Tani</td>\n",
              "      <td>0 - 1.000.000</td>\n",
              "      <td>Non-Keramik</td>\n",
              "      <td>Bambu</td>\n",
              "      <td>PLN</td>\n",
              "      <td>Sumur</td>\n",
              "      <td>Milik Sendiri</td>\n",
              "      <td>Milik Sendiri</td>\n",
              "      <td>NaN</td>\n",
              "    </tr>\n",
              "    <tr>\n",
              "      <th>1</th>\n",
              "      <td>Lukman</td>\n",
              "      <td>2</td>\n",
              "      <td>Wiraswasta</td>\n",
              "      <td>5.100.000 - 6.000.000</td>\n",
              "      <td>Keramik</td>\n",
              "      <td>Bata</td>\n",
              "      <td>PLN</td>\n",
              "      <td>PDAM</td>\n",
              "      <td>Milik Sendiri</td>\n",
              "      <td>Milik Sendiri</td>\n",
              "      <td>NaN</td>\n",
              "    </tr>\n",
              "    <tr>\n",
              "      <th>2</th>\n",
              "      <td>Rustam</td>\n",
              "      <td>2</td>\n",
              "      <td>Buruh Harian Lepas</td>\n",
              "      <td>0 - 1.000.000</td>\n",
              "      <td>Non-Keramik</td>\n",
              "      <td>Bambu</td>\n",
              "      <td>PLN</td>\n",
              "      <td>Sumur</td>\n",
              "      <td>Milik Sendiri</td>\n",
              "      <td>Milik Sendiri</td>\n",
              "      <td>NaN</td>\n",
              "    </tr>\n",
              "  </tbody>\n",
              "</table>\n",
              "</div>\n",
              "      <button class=\"colab-df-convert\" onclick=\"convertToInteractive('df-077e6d15-8a76-4a35-a1ce-4ac5307da107')\"\n",
              "              title=\"Convert this dataframe to an interactive table.\"\n",
              "              style=\"display:none;\">\n",
              "        \n",
              "  <svg xmlns=\"http://www.w3.org/2000/svg\" height=\"24px\"viewBox=\"0 0 24 24\"\n",
              "       width=\"24px\">\n",
              "    <path d=\"M0 0h24v24H0V0z\" fill=\"none\"/>\n",
              "    <path d=\"M18.56 5.44l.94 2.06.94-2.06 2.06-.94-2.06-.94-.94-2.06-.94 2.06-2.06.94zm-11 1L8.5 8.5l.94-2.06 2.06-.94-2.06-.94L8.5 2.5l-.94 2.06-2.06.94zm10 10l.94 2.06.94-2.06 2.06-.94-2.06-.94-.94-2.06-.94 2.06-2.06.94z\"/><path d=\"M17.41 7.96l-1.37-1.37c-.4-.4-.92-.59-1.43-.59-.52 0-1.04.2-1.43.59L10.3 9.45l-7.72 7.72c-.78.78-.78 2.05 0 2.83L4 21.41c.39.39.9.59 1.41.59.51 0 1.02-.2 1.41-.59l7.78-7.78 2.81-2.81c.8-.78.8-2.07 0-2.86zM5.41 20L4 18.59l7.72-7.72 1.47 1.35L5.41 20z\"/>\n",
              "  </svg>\n",
              "      </button>\n",
              "      \n",
              "  <style>\n",
              "    .colab-df-container {\n",
              "      display:flex;\n",
              "      flex-wrap:wrap;\n",
              "      gap: 12px;\n",
              "    }\n",
              "\n",
              "    .colab-df-convert {\n",
              "      background-color: #E8F0FE;\n",
              "      border: none;\n",
              "      border-radius: 50%;\n",
              "      cursor: pointer;\n",
              "      display: none;\n",
              "      fill: #1967D2;\n",
              "      height: 32px;\n",
              "      padding: 0 0 0 0;\n",
              "      width: 32px;\n",
              "    }\n",
              "\n",
              "    .colab-df-convert:hover {\n",
              "      background-color: #E2EBFA;\n",
              "      box-shadow: 0px 1px 2px rgba(60, 64, 67, 0.3), 0px 1px 3px 1px rgba(60, 64, 67, 0.15);\n",
              "      fill: #174EA6;\n",
              "    }\n",
              "\n",
              "    [theme=dark] .colab-df-convert {\n",
              "      background-color: #3B4455;\n",
              "      fill: #D2E3FC;\n",
              "    }\n",
              "\n",
              "    [theme=dark] .colab-df-convert:hover {\n",
              "      background-color: #434B5C;\n",
              "      box-shadow: 0px 1px 3px 1px rgba(0, 0, 0, 0.15);\n",
              "      filter: drop-shadow(0px 1px 2px rgba(0, 0, 0, 0.3));\n",
              "      fill: #FFFFFF;\n",
              "    }\n",
              "  </style>\n",
              "\n",
              "      <script>\n",
              "        const buttonEl =\n",
              "          document.querySelector('#df-077e6d15-8a76-4a35-a1ce-4ac5307da107 button.colab-df-convert');\n",
              "        buttonEl.style.display =\n",
              "          google.colab.kernel.accessAllowed ? 'block' : 'none';\n",
              "\n",
              "        async function convertToInteractive(key) {\n",
              "          const element = document.querySelector('#df-077e6d15-8a76-4a35-a1ce-4ac5307da107');\n",
              "          const dataTable =\n",
              "            await google.colab.kernel.invokeFunction('convertToInteractive',\n",
              "                                                     [key], {});\n",
              "          if (!dataTable) return;\n",
              "\n",
              "          const docLinkHtml = 'Like what you see? Visit the ' +\n",
              "            '<a target=\"_blank\" href=https://colab.research.google.com/notebooks/data_table.ipynb>data table notebook</a>'\n",
              "            + ' to learn more about interactive tables.';\n",
              "          element.innerHTML = '';\n",
              "          dataTable['output_type'] = 'display_data';\n",
              "          await google.colab.output.renderOutput(dataTable, element);\n",
              "          const docLink = document.createElement('div');\n",
              "          docLink.innerHTML = docLinkHtml;\n",
              "          element.appendChild(docLink);\n",
              "        }\n",
              "      </script>\n",
              "    </div>\n",
              "  </div>\n",
              "  "
            ]
          },
          "metadata": {},
          "execution_count": 84
        }
      ],
      "source": [
        "X_pred = pd.read_excel (r'testing.xlsx')\n",
        "X_pred.to_csv (r'testing.csv', index = None, header=True)\n",
        "X_pred"
      ]
    },
    {
      "cell_type": "code",
      "execution_count": 85,
      "metadata": {
        "id": "pjxPb2vHFZVG",
        "outputId": "e4c01ae5-70b0-4ec8-ac99-61ff2fc4e294",
        "colab": {
          "base_uri": "https://localhost:8080/"
        }
      },
      "outputs": [
        {
          "output_type": "execute_result",
          "data": {
            "text/plain": [
              "array(['Layak', 'Tidak Layak', 'Layak'], dtype='<U11')"
            ]
          },
          "metadata": {},
          "execution_count": 85
        }
      ],
      "source": [
        "pipeline.predict(X_pred)"
      ]
    },
    {
      "cell_type": "code",
      "execution_count": 86,
      "metadata": {
        "id": "RA5xHHY1FZVH",
        "outputId": "128049c9-aab7-4eee-d383-c55cf64a8de5",
        "colab": {
          "base_uri": "https://localhost:8080/",
          "height": 144
        }
      },
      "outputs": [
        {
          "output_type": "execute_result",
          "data": {
            "text/plain": [
              "     Nama  Tanggungan           Pekerjaan            Penghasilan Jenis Lantai  \\\n",
              "0    Jojo           4          Buruh Tani          0 - 1.000.000  Non-Keramik   \n",
              "1  Lukman           2          Wiraswasta  5.100.000 - 6.000.000      Keramik   \n",
              "2  Rustam           2  Buruh Harian Lepas          0 - 1.000.000  Non-Keramik   \n",
              "\n",
              "  Jenis Dinding Sumber Listrik Sumber Air         SK MCK       SK Rumah  \\\n",
              "0         Bambu            PLN      Sumur  Milik Sendiri  Milik Sendiri   \n",
              "1          Bata            PLN       PDAM  Milik Sendiri  Milik Sendiri   \n",
              "2         Bambu            PLN      Sumur  Milik Sendiri  Milik Sendiri   \n",
              "\n",
              "        Status  \n",
              "0        Layak  \n",
              "1  Tidak Layak  \n",
              "2        Layak  "
            ],
            "text/html": [
              "\n",
              "  <div id=\"df-2ba69e6f-705a-4756-ae00-3358ed9fd798\">\n",
              "    <div class=\"colab-df-container\">\n",
              "      <div>\n",
              "<style scoped>\n",
              "    .dataframe tbody tr th:only-of-type {\n",
              "        vertical-align: middle;\n",
              "    }\n",
              "\n",
              "    .dataframe tbody tr th {\n",
              "        vertical-align: top;\n",
              "    }\n",
              "\n",
              "    .dataframe thead th {\n",
              "        text-align: right;\n",
              "    }\n",
              "</style>\n",
              "<table border=\"1\" class=\"dataframe\">\n",
              "  <thead>\n",
              "    <tr style=\"text-align: right;\">\n",
              "      <th></th>\n",
              "      <th>Nama</th>\n",
              "      <th>Tanggungan</th>\n",
              "      <th>Pekerjaan</th>\n",
              "      <th>Penghasilan</th>\n",
              "      <th>Jenis Lantai</th>\n",
              "      <th>Jenis Dinding</th>\n",
              "      <th>Sumber Listrik</th>\n",
              "      <th>Sumber Air</th>\n",
              "      <th>SK MCK</th>\n",
              "      <th>SK Rumah</th>\n",
              "      <th>Status</th>\n",
              "    </tr>\n",
              "  </thead>\n",
              "  <tbody>\n",
              "    <tr>\n",
              "      <th>0</th>\n",
              "      <td>Jojo</td>\n",
              "      <td>4</td>\n",
              "      <td>Buruh Tani</td>\n",
              "      <td>0 - 1.000.000</td>\n",
              "      <td>Non-Keramik</td>\n",
              "      <td>Bambu</td>\n",
              "      <td>PLN</td>\n",
              "      <td>Sumur</td>\n",
              "      <td>Milik Sendiri</td>\n",
              "      <td>Milik Sendiri</td>\n",
              "      <td>Layak</td>\n",
              "    </tr>\n",
              "    <tr>\n",
              "      <th>1</th>\n",
              "      <td>Lukman</td>\n",
              "      <td>2</td>\n",
              "      <td>Wiraswasta</td>\n",
              "      <td>5.100.000 - 6.000.000</td>\n",
              "      <td>Keramik</td>\n",
              "      <td>Bata</td>\n",
              "      <td>PLN</td>\n",
              "      <td>PDAM</td>\n",
              "      <td>Milik Sendiri</td>\n",
              "      <td>Milik Sendiri</td>\n",
              "      <td>Tidak Layak</td>\n",
              "    </tr>\n",
              "    <tr>\n",
              "      <th>2</th>\n",
              "      <td>Rustam</td>\n",
              "      <td>2</td>\n",
              "      <td>Buruh Harian Lepas</td>\n",
              "      <td>0 - 1.000.000</td>\n",
              "      <td>Non-Keramik</td>\n",
              "      <td>Bambu</td>\n",
              "      <td>PLN</td>\n",
              "      <td>Sumur</td>\n",
              "      <td>Milik Sendiri</td>\n",
              "      <td>Milik Sendiri</td>\n",
              "      <td>Layak</td>\n",
              "    </tr>\n",
              "  </tbody>\n",
              "</table>\n",
              "</div>\n",
              "      <button class=\"colab-df-convert\" onclick=\"convertToInteractive('df-2ba69e6f-705a-4756-ae00-3358ed9fd798')\"\n",
              "              title=\"Convert this dataframe to an interactive table.\"\n",
              "              style=\"display:none;\">\n",
              "        \n",
              "  <svg xmlns=\"http://www.w3.org/2000/svg\" height=\"24px\"viewBox=\"0 0 24 24\"\n",
              "       width=\"24px\">\n",
              "    <path d=\"M0 0h24v24H0V0z\" fill=\"none\"/>\n",
              "    <path d=\"M18.56 5.44l.94 2.06.94-2.06 2.06-.94-2.06-.94-.94-2.06-.94 2.06-2.06.94zm-11 1L8.5 8.5l.94-2.06 2.06-.94-2.06-.94L8.5 2.5l-.94 2.06-2.06.94zm10 10l.94 2.06.94-2.06 2.06-.94-2.06-.94-.94-2.06-.94 2.06-2.06.94z\"/><path d=\"M17.41 7.96l-1.37-1.37c-.4-.4-.92-.59-1.43-.59-.52 0-1.04.2-1.43.59L10.3 9.45l-7.72 7.72c-.78.78-.78 2.05 0 2.83L4 21.41c.39.39.9.59 1.41.59.51 0 1.02-.2 1.41-.59l7.78-7.78 2.81-2.81c.8-.78.8-2.07 0-2.86zM5.41 20L4 18.59l7.72-7.72 1.47 1.35L5.41 20z\"/>\n",
              "  </svg>\n",
              "      </button>\n",
              "      \n",
              "  <style>\n",
              "    .colab-df-container {\n",
              "      display:flex;\n",
              "      flex-wrap:wrap;\n",
              "      gap: 12px;\n",
              "    }\n",
              "\n",
              "    .colab-df-convert {\n",
              "      background-color: #E8F0FE;\n",
              "      border: none;\n",
              "      border-radius: 50%;\n",
              "      cursor: pointer;\n",
              "      display: none;\n",
              "      fill: #1967D2;\n",
              "      height: 32px;\n",
              "      padding: 0 0 0 0;\n",
              "      width: 32px;\n",
              "    }\n",
              "\n",
              "    .colab-df-convert:hover {\n",
              "      background-color: #E2EBFA;\n",
              "      box-shadow: 0px 1px 2px rgba(60, 64, 67, 0.3), 0px 1px 3px 1px rgba(60, 64, 67, 0.15);\n",
              "      fill: #174EA6;\n",
              "    }\n",
              "\n",
              "    [theme=dark] .colab-df-convert {\n",
              "      background-color: #3B4455;\n",
              "      fill: #D2E3FC;\n",
              "    }\n",
              "\n",
              "    [theme=dark] .colab-df-convert:hover {\n",
              "      background-color: #434B5C;\n",
              "      box-shadow: 0px 1px 3px 1px rgba(0, 0, 0, 0.15);\n",
              "      filter: drop-shadow(0px 1px 2px rgba(0, 0, 0, 0.3));\n",
              "      fill: #FFFFFF;\n",
              "    }\n",
              "  </style>\n",
              "\n",
              "      <script>\n",
              "        const buttonEl =\n",
              "          document.querySelector('#df-2ba69e6f-705a-4756-ae00-3358ed9fd798 button.colab-df-convert');\n",
              "        buttonEl.style.display =\n",
              "          google.colab.kernel.accessAllowed ? 'block' : 'none';\n",
              "\n",
              "        async function convertToInteractive(key) {\n",
              "          const element = document.querySelector('#df-2ba69e6f-705a-4756-ae00-3358ed9fd798');\n",
              "          const dataTable =\n",
              "            await google.colab.kernel.invokeFunction('convertToInteractive',\n",
              "                                                     [key], {});\n",
              "          if (!dataTable) return;\n",
              "\n",
              "          const docLinkHtml = 'Like what you see? Visit the ' +\n",
              "            '<a target=\"_blank\" href=https://colab.research.google.com/notebooks/data_table.ipynb>data table notebook</a>'\n",
              "            + ' to learn more about interactive tables.';\n",
              "          element.innerHTML = '';\n",
              "          dataTable['output_type'] = 'display_data';\n",
              "          await google.colab.output.renderOutput(dataTable, element);\n",
              "          const docLink = document.createElement('div');\n",
              "          docLink.innerHTML = docLinkHtml;\n",
              "          element.appendChild(docLink);\n",
              "        }\n",
              "      </script>\n",
              "    </div>\n",
              "  </div>\n",
              "  "
            ]
          },
          "metadata": {},
          "execution_count": 86
        }
      ],
      "source": [
        "X_pred[\"Status\"] = pipeline.predict(X_pred)\n",
        "X_pred"
      ]
    },
    {
      "cell_type": "markdown",
      "source": [
        "Dapat kita lihat, dari 3 data testing terdapat 2 orang yang layak untuk menerima bantuan dan 1 orang tidak layak untuk menerima bantuan."
      ],
      "metadata": {
        "id": "CMYYPLzeC4Bu"
      }
    }
  ],
  "metadata": {
    "colab": {
      "name": "Naive Bayes.ipynb",
      "provenance": [],
      "collapsed_sections": []
    },
    "kernelspec": {
      "display_name": "Python [conda env:root]",
      "language": "python",
      "name": "conda-root-py"
    },
    "language_info": {
      "codemirror_mode": {
        "name": "ipython",
        "version": 3
      },
      "file_extension": ".py",
      "mimetype": "text/x-python",
      "name": "python",
      "nbconvert_exporter": "python",
      "pygments_lexer": "ipython3",
      "version": "3.8.3"
    }
  },
  "nbformat": 4,
  "nbformat_minor": 0
}